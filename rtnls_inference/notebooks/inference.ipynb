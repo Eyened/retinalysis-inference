{
 "cells": [
  {
   "cell_type": "code",
   "execution_count": null,
   "metadata": {},
   "outputs": [],
   "source": [
    "from pathlib import Path\n",
    "\n",
    "import torch\n",
    "from rtnls_inference import (\n",
    "    SegmentationEnsemble,\n",
    ")\n",
    "\n",
    "# noqa: F401\n",
    "from rtnls_models.utils.config import load_config  # noqa: F401"
   ]
  },
  {
   "cell_type": "code",
   "execution_count": null,
   "metadata": {},
   "outputs": [],
   "source": [
    "ds_path = Path(\"../../samples/fundus\")\n",
    "\n",
    "rgb_path = ds_path / \"rgb\"\n",
    "\n",
    "# input folder. point to a folder with png and/or dicom images\n",
    "prep_rgb_path = ds_path / \"preprocessed_rgb\"\n",
    "prep_ce_path = ds_path / \"preprocessed_ce\"\n",
    "\n",
    "# these are the output folders:\n",
    "av_path = ds_path / \"av\"\n",
    "vessels_path = ds_path / \"vessels\"\n",
    "overlays_path = ds_path / \"overlays\"\n",
    "discs_path = ds_path / \"discs\"\n",
    "overlays_path = ds_path / \"overlays\"\n",
    "\n",
    "device = torch.device(\"cuda:0\")"
   ]
  },
  {
   "cell_type": "code",
   "execution_count": null,
   "metadata": {},
   "outputs": [],
   "source": [
    "model = SegmentationEnsemble.from_torchscript(\"./test.pt\").to(device)"
   ]
  },
  {
   "cell_type": "code",
   "execution_count": null,
   "metadata": {},
   "outputs": [],
   "source": [
    "rgb_paths = list(rgb_path.glob(\"*.png\"))"
   ]
  },
  {
   "cell_type": "code",
   "execution_count": null,
   "metadata": {},
   "outputs": [],
   "source": [
    "model.predict(rgb_paths, \"./test\")"
   ]
  },
  {
   "cell_type": "code",
   "execution_count": null,
   "metadata": {},
   "outputs": [],
   "source": []
  },
  {
   "cell_type": "code",
   "execution_count": null,
   "metadata": {},
   "outputs": [],
   "source": []
  },
  {
   "cell_type": "code",
   "execution_count": null,
   "metadata": {},
   "outputs": [],
   "source": []
  }
 ],
 "metadata": {
  "kernelspec": {
   "display_name": "retinalysis",
   "language": "python",
   "name": "python3"
  },
  "language_info": {
   "codemirror_mode": {
    "name": "ipython",
    "version": 3
   },
   "file_extension": ".py",
   "mimetype": "text/x-python",
   "name": "python",
   "nbconvert_exporter": "python",
   "pygments_lexer": "ipython3",
   "version": "3.10.13"
  }
 },
 "nbformat": 4,
 "nbformat_minor": 2
}
