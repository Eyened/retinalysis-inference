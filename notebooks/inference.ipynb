{
 "cells": [
  {
   "cell_type": "code",
   "execution_count": 1,
   "metadata": {},
   "outputs": [],
   "source": [
    "from pathlib import Path\n",
    "\n",
    "import torch\n",
    "from rtnls_inference import (\n",
    "    SegmentationEnsemble,\n",
    ")"
   ]
  },
  {
   "cell_type": "code",
   "execution_count": 2,
   "metadata": {},
   "outputs": [],
   "source": [
    "ds_path = Path(\"../samples/fundus\")\n",
    "\n",
    "# input folders. these are the folders where we stored the preprocessed images\n",
    "rgb_path = ds_path / \"rgb\"\n",
    "ce_path = ds_path / \"ce\"\n",
    "\n",
    "# these are the output folders for:\n",
    "av_path = ds_path / \"av\"                # artery-vein segmentations\n",
    "discs_path = ds_path / \"discs\"          # optic disc segmentations\n",
    "overlays_path = ds_path / \"overlays\"    # optional overlay visualizations\n",
    "\n",
    "device = torch.device(\"cuda:0\")         # device to use for inference"
   ]
  },
  {
   "cell_type": "code",
   "execution_count": 3,
   "metadata": {},
   "outputs": [],
   "source": [
    "model = SegmentationEnsemble.from_release(\"vessels_july24.pt\").to(device)"
   ]
  },
  {
   "cell_type": "code",
   "execution_count": 4,
   "metadata": {},
   "outputs": [],
   "source": [
    "rgb_paths = list(rgb_path.glob(\"*\"))"
   ]
  },
  {
   "cell_type": "code",
   "execution_count": 5,
   "metadata": {},
   "outputs": [
    {
     "data": {
      "text/plain": [
       "[PosixPath('../samples/fundus/rgb/DRIVE_22.png'),\n",
       " PosixPath('../samples/fundus/rgb/HRF_07_dr.jpg'),\n",
       " PosixPath('../samples/fundus/rgb/DRIVE_40.png'),\n",
       " PosixPath('../samples/fundus/rgb/CHASEDB1_08L.png'),\n",
       " PosixPath('../samples/fundus/rgb/HRF_04_g.jpg'),\n",
       " PosixPath('../samples/fundus/rgb/CHASEDB1_12R.png')]"
      ]
     },
     "execution_count": 5,
     "metadata": {},
     "output_type": "execute_result"
    }
   ],
   "source": [
    "rgb_paths"
   ]
  },
  {
   "cell_type": "code",
   "execution_count": 6,
   "metadata": {},
   "outputs": [
    {
     "name": "stderr",
     "output_type": "stream",
     "text": [
      "  0%|          | 0/1 [00:00<?, ?it/s]"
     ]
    },
    {
     "name": "stdout",
     "output_type": "stream",
     "text": [
      "tta_inference\n",
      "torch.Size([5, 6, 2, 1024, 1024])\n"
     ]
    },
    {
     "name": "stderr",
     "output_type": "stream",
     "text": [
      "100%|██████████| 1/1 [00:16<00:00, 16.32s/it]\n"
     ]
    }
   ],
   "source": [
    "model.predict(rgb_paths, \"./test\")"
   ]
  },
  {
   "cell_type": "code",
   "execution_count": null,
   "metadata": {},
   "outputs": [],
   "source": []
  },
  {
   "cell_type": "code",
   "execution_count": null,
   "metadata": {},
   "outputs": [],
   "source": []
  },
  {
   "cell_type": "code",
   "execution_count": null,
   "metadata": {},
   "outputs": [],
   "source": []
  }
 ],
 "metadata": {
  "kernelspec": {
   "display_name": "retinalysis",
   "language": "python",
   "name": "python3"
  },
  "language_info": {
   "codemirror_mode": {
    "name": "ipython",
    "version": 3
   },
   "file_extension": ".py",
   "mimetype": "text/x-python",
   "name": "python",
   "nbconvert_exporter": "python",
   "pygments_lexer": "ipython3",
   "version": "3.10.13"
  }
 },
 "nbformat": 4,
 "nbformat_minor": 2
}
